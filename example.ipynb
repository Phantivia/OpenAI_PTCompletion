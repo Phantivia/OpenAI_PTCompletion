{
 "cells": [
  {
   "cell_type": "code",
   "execution_count": 2,
   "metadata": {},
   "outputs": [],
   "source": [
    "from ptcompletion import OpenAITask"
   ]
  },
  {
   "cell_type": "code",
   "execution_count": 3,
   "metadata": {},
   "outputs": [],
   "source": [
    "messages = [\n",
    "    {\n",
    "        'role': 'user',\n",
    "        'content': 'Please write me two lines of poetry about llama. Your response should start with : LLAMA! ..'\n",
    "    }\n",
    "]\n",
    "\n",
    "generation_config = dict(\n",
    "    temperature=1.0,\n",
    "    top_p=1,\n",
    "    max_tokens = 128,\n",
    ")\n",
    "\n",
    "def validate(completion):\n",
    "    return completion.startswith('LLAMA!')\n",
    "\n",
    "def postprocess(completion):\n",
    "    completion = completion.replace('LLAMA!', 'Oh my LLAMA!')\n",
    "    return {'genrated_poem': completion.strip()}\n",
    "\n",
    "api_key = r'YOUR_API_KEY_HERE'\n",
    "model = 'gpt-3.5-turbo'\n",
    "\n",
    "task = OpenAITask(id=0, messages=messages, validate=validate, postprocess=postprocess, generation_config={}, model=model, api_key=api_key)"
   ]
  },
  {
   "cell_type": "code",
   "execution_count": 4,
   "metadata": {},
   "outputs": [],
   "source": [
    "while not task.completed:\n",
    "    task.run()"
   ]
  },
  {
   "cell_type": "code",
   "execution_count": 5,
   "metadata": {},
   "outputs": [
    {
     "name": "stdout",
     "output_type": "stream",
     "text": [
      "<class 'ptcompletion.openai_task.OpenAITask'>\n",
      "Result: {'genrated_poem': 'Oh my LLAMA! Regal camelid of the Andes high, \\nWith wool so soft, and a curious eye.'}\n",
      "Completion: LLAMA! Regal camelid of the Andes high, \n",
      "With wool so soft, and a curious eye.\n",
      "Input: [{'role': 'user', 'content': 'Please write me two lines of poetry about llama. Your response should start with : LLAMA! ..'}]\n"
     ]
    }
   ],
   "source": [
    "print(task)"
   ]
  },
  {
   "cell_type": "code",
   "execution_count": 6,
   "metadata": {},
   "outputs": [],
   "source": [
    "messages_list = [[\n",
    "    {\n",
    "        'role': 'user',\n",
    "        'content': f'Please write me two lines of poetry about llama and number {i}. Your response should start with : LLAMA! ..'\n",
    "    }\n",
    "] for i in range(10)]\n",
    "\n",
    "tasks = [OpenAITask(id = i,\n",
    "                    messages=messages,\n",
    "                    validate=validate,\n",
    "                    postprocess=postprocess,\n",
    "                    generation_config=generation_config,\n",
    "                    model=model,\n",
    "                    api_key=api_key)\n",
    "                    for i, messages in enumerate(messages_list)]"
   ]
  },
  {
   "cell_type": "code",
   "execution_count": 7,
   "metadata": {},
   "outputs": [],
   "source": [
    "from ptcompletion import TaskQueue"
   ]
  },
  {
   "cell_type": "code",
   "execution_count": 8,
   "metadata": {},
   "outputs": [],
   "source": [
    "tq = TaskQueue(request_per_minute=60, max_rounds=3, log_file='tasks.log')"
   ]
  },
  {
   "cell_type": "code",
   "execution_count": 9,
   "metadata": {},
   "outputs": [
    {
     "name": "stdout",
     "output_type": "stream",
     "text": [
      "[2023-05-14 18:14:26.314787] Task 0 Start.\n",
      "[2023-05-14 18:14:27.317742] Task 1 Start.\n",
      "[2023-05-14 18:14:28.321832] Task 2 Start.\n",
      "[2023-05-14 18:14:29.323970] Task 3 Start.\n",
      "Query Error:  APIConnectionError(message='Error communicating with OpenAI: [SSL: WRONG_VERSION_NUMBER] wrong version number (_ssl.c:2536)', http_status=None, request_id=None)\n",
      "[2023-05-14 18:14:29.606391] Task 2 Failed in 1.285 seconds.\n",
      "[2023-05-14 18:14:30.326348] Task 4 Start.\n",
      "[2023-05-14 18:14:31.328870] Task 5 Start.\n",
      "[2023-05-14 18:14:32.331590] Task 6 Start.\n",
      "[2023-05-14 18:14:32.367481] Task 1 Completed in 5.05 seconds.\n",
      "[2023-05-14 18:14:32.682487] Task 3 Completed in 3.359 seconds.\n",
      "[2023-05-14 18:14:33.334512] Task 7 Start.\n",
      "[2023-05-14 18:14:34.000082] Task 5 Completed in 2.671 seconds.\n",
      "[2023-05-14 18:14:34.337414] Task 8 Start.\n",
      "[2023-05-14 18:14:34.373042] Task 4 Completed in 4.047 seconds.\n",
      "[2023-05-14 18:14:35.323777] Task 6 Completed in 2.992 seconds.\n",
      "[2023-05-14 18:14:35.373714] Task 9 Start.\n",
      "[2023-05-14 18:14:36.761820] Task 7 Completed in 3.427 seconds.\n",
      "[2023-05-14 18:14:37.053908] Task 8 Completed in 2.716 seconds.\n",
      "[2023-05-14 18:14:38.138341] Task 9 Completed in 2.765 seconds.\n",
      "Query Error:  RateLimitError(message='That model is currently overloaded with other requests. You can retry your request, or contact us through our help center at help.openai.com if the error persists. (Please include the request ID 1b7d2f099ebb11d3123408e8233f8511 in your message.)', http_status=429, request_id=None)\n",
      "[2023-05-14 18:15:00.623270] Task 0 Failed in 34.308 seconds.\n",
      "[2023-05-14 18:15:00.630611] Round 1 End in 34.342 Seconds. 8 Task Completed. 2 Tasks Failed.\n",
      "[2023-05-14 18:15:01.689296] Task 0 Start.\n",
      "[2023-05-14 18:15:02.692344] Task 2 Start.\n",
      "[2023-05-14 18:15:04.517488] Task 0 Completed in 2.828 seconds.\n",
      "[2023-05-14 18:15:05.372086] Task 2 Completed in 2.68 seconds.\n",
      "[2023-05-14 18:15:05.379181] Round 2 End in 4.748 Seconds. 10 Task Completed. 0 Tasks Failed.\n",
      "[2023-05-14 18:15:05.379596] All 10 Tasks Completed at Round 2, in 39.091 Seconds.\n"
     ]
    }
   ],
   "source": [
    "completed_tasks = tq.start(tasks)"
   ]
  },
  {
   "cell_type": "code",
   "execution_count": 11,
   "metadata": {},
   "outputs": [
    {
     "name": "stdout",
     "output_type": "stream",
     "text": [
      "TASK 1\n",
      "{'genrated_poem': 'Oh my LLAMA! With your soft, fluffy coat,\\nNumber one in elegance, you certainly do denote.'}\n",
      "TASK 2\n",
      "{'genrated_poem': 'Oh my LLAMA! Oh graceful creature of the field,\\nWhat is it about the number three that makes you yield?'}\n",
      "TASK 3\n",
      "{'genrated_poem': 'Oh my LLAMA! Why do you remind me of number four?\\nIs it because of your legs, sturdy and strong, like a table or a door?'}\n",
      "TASK 4\n",
      "{'genrated_poem': 'Oh my LLAMA! You stand so proud, \\nFive legs or feet, you make us astound.'}\n",
      "TASK 5\n",
      "{'genrated_poem': 'Oh my LLAMA! Oh, six spots on your coat,\\nGraceful creature, you make my heart float.'}\n",
      "TASK 6\n",
      "{'genrated_poem': 'Oh my LLAMA! Oh, mystical creature of Andes highlands,\\nMay your steps of 7 bring us blessings of prosperity and good finds.'}\n",
      "TASK 7\n",
      "{'genrated_poem': 'Oh my LLAMA! Oh how divine, \\nEight is the perfect number to align.'}\n",
      "TASK 8\n",
      "{'genrated_poem': 'Oh my LLAMA! Oh, Number Nine!\\nA curious pair, unique and divine.'}\n",
      "TASK 9\n",
      "{'genrated_poem': 'Oh my LLAMA! You carry the weight of zero,\\nA blank canvas awaiting the hero.'}\n",
      "TASK 10\n",
      "{'genrated_poem': 'Oh my LLAMA! Oh, curious creature,\\nTwo humps, two ears, number two feature.'}\n"
     ]
    }
   ],
   "source": [
    "for idx, t in enumerate(completed_tasks):\n",
    "    print(f'TASK {idx+1}')\n",
    "    print(t.result)"
   ]
  }
 ],
 "metadata": {
  "kernelspec": {
   "display_name": "flamingo",
   "language": "python",
   "name": "python3"
  },
  "language_info": {
   "codemirror_mode": {
    "name": "ipython",
    "version": 3
   },
   "file_extension": ".py",
   "mimetype": "text/x-python",
   "name": "python",
   "nbconvert_exporter": "python",
   "pygments_lexer": "ipython3",
   "version": "3.10.0"
  },
  "orig_nbformat": 4
 },
 "nbformat": 4,
 "nbformat_minor": 2
}
